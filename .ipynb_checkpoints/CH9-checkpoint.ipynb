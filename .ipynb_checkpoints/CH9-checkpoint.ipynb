{
 "cells": [
  {
   "cell_type": "code",
   "execution_count": 47,
   "metadata": {
    "collapsed": false,
    "deletable": true,
    "editable": true,
    "scrolled": true
   },
   "outputs": [
    {
     "name": "stderr",
     "output_type": "stream",
     "text": [
      "/Users/JORGEURIBESOLORZANO/virtualenvs/envjupyter/lib/python3.6/site-packages/IPython/core/interactiveshell.py:2881: FutureWarning: \n",
      "mpl_style had been deprecated and will be removed in a future version.\n",
      "Use `matplotlib.pyplot.style.use` instead.\n",
      "\n",
      "  exec(code_obj, self.user_global_ns, self.user_ns)\n"
     ]
    }
   ],
   "source": [
    "#1 \n",
    "import json\n",
    "import calendar\n",
    "import random \n",
    "from datetime import date, timedelta\n",
    "\n",
    "import faker\n",
    "import numpy as  np\n",
    "from pandas import DataFrame\n",
    "from delorean import parse\n",
    "import pandas as pd\n",
    "\n",
    "#make the graphs nicer\n",
    "pd.set_option('display.mpl_style','default')\n",
    "\n",
    "#import matplotlib.pyplot as plt\n",
    "#import matplotlib\n",
    "#matplotlib.style.use('ggplot')"
   ]
  },
  {
   "cell_type": "code",
   "execution_count": 48,
   "metadata": {
    "collapsed": true,
    "deletable": true,
    "editable": true
   },
   "outputs": [],
   "source": [
    "#2\n",
    "fake = faker.Faker()\n"
   ]
  },
  {
   "cell_type": "code",
   "execution_count": 49,
   "metadata": {
    "collapsed": true,
    "deletable": true,
    "editable": true
   },
   "outputs": [],
   "source": [
    "#3\n",
    "usernames = set()\n",
    "usernames_no =  1000\n",
    "#usernames_no =  1000\n",
    "#populate the set with 1000 unique user names\n",
    "while len(usernames) < usernames_no:\n",
    "    usernames.add(fake.user_name())\n",
    "   "
   ]
  },
  {
   "cell_type": "code",
   "execution_count": 50,
   "metadata": {
    "collapsed": false,
    "deletable": true,
    "editable": true
   },
   "outputs": [
    {
     "data": {
      "text/plain": [
       "['{\"username\": \"omccall\", \"name\": \"Janet Hunt\", \"gender\": \"F\", \"email\": \"dcarroll@yahoo.com\", \"age\": 23, \"address\": \"53005 Joseph Underpass Suite 630\\\\nLake Crystal, IN 52553-9396\"}',\n",
       " '{\"username\": \"andreabaxter\", \"name\": \"Jamie Campbell\", \"gender\": \"F\", \"email\": \"juliehouse@small.com\", \"age\": 24, \"address\": \"7925 Morris Wall Suite 659\\\\nDiazville, AL 80776-5499\"}']"
      ]
     },
     "execution_count": 50,
     "metadata": {},
     "output_type": "execute_result"
    }
   ],
   "source": [
    "#4\n",
    "def get_random_name_and_gender():\n",
    "    skew = .6 # 60% of users will be female\n",
    "    male = random.random() > skew\n",
    "    if male:\n",
    "        return fake.name_male(), 'M'\n",
    "    else:\n",
    "        return fake.name_female(), 'F'\n",
    "\n",
    "def get_users( usernames):\n",
    "    users = []\n",
    "    for username in usernames:\n",
    "        name, gender = get_random_name_and_gender()\n",
    "\n",
    "        user = {\n",
    "            'username': username,\n",
    "            'name': name,\n",
    "            'gender': gender,\n",
    "            'email': fake.email(),\n",
    "            'age': fake.random_int( min = 18,max = 90),\n",
    "            'address': fake.address(),\n",
    "        }\n",
    "        users.append( json.dumps( user))\n",
    "    return users\n",
    "\n",
    "users = get_users( usernames)\n",
    "users[: 2]\n"
   ]
  },
  {
   "cell_type": "code",
   "execution_count": 51,
   "metadata": {
    "collapsed": false,
    "deletable": true,
    "editable": true
   },
   "outputs": [],
   "source": [
    "#5 \n",
    "# Campaign name format \n",
    "# \n",
    "#InternalType_StartDate_EndDate_TargetAge_TargetGender_Currency\n",
    "\n",
    "def get_type():\n",
    "    #just some giberrish internal codes \n",
    "    types = ['AKX', 'BYU', 'GRZ', 'KTR']\n",
    "    return random.choice(types)\n",
    "\n",
    "def get_start_end_dates():\n",
    "    duration = random.randint(1, 2 * 365)\n",
    "    offset = random.randint(-365 , 365)\n",
    "    start = date.today() - timedelta(days=offset)\n",
    "    end = start + timedelta(days=duration)\n",
    "    \n",
    "    def _format_date(date_):\n",
    "        return date_.strftime(\"%Y%m%d\")\n",
    "    \n",
    "    return _format_date(start), _format_date(end)\n",
    "\n",
    "def get_age():\n",
    "    age = random.randint(20, 45)\n",
    "    age -= age % 5 \n",
    "    diff = random.randint(5, 25)\n",
    "    diff -= diff % 5 \n",
    "    return '{}-{}'.format(age, age + diff)\n",
    "\n",
    "def get_gender():\n",
    "    return random.choice(('M', 'F', 'B'))\n",
    "\n",
    "def get_currency(): \n",
    "    return random.choice(('GPB', 'EUR', 'USD'))\n",
    "\n",
    "def get_campaign_name():\n",
    "    separator = '_'\n",
    "    type_ = get_type()\n",
    "    start_end = separator.join(get_start_end_dates())\n",
    "    age = get_age()\n",
    "    gender = get_gender()\n",
    "    currency = get_currency()\n",
    "    return separator.join((type_, start_end, age, gender, currency))\n",
    "    "
   ]
  },
  {
   "cell_type": "code",
   "execution_count": 52,
   "metadata": {
    "collapsed": true,
    "deletable": true,
    "editable": true
   },
   "outputs": [],
   "source": [
    "#6 \n",
    "\n",
    "def get_campaign_data(): \n",
    "    name = get_campaign_name() \n",
    "    budget = random.randint( 10** 3, 10** 6) \n",
    "    spent = random.randint( 10** 2, budget) \n",
    "    clicks = int( random.triangular( 10** 2, 10** 5, 0.2 * 10** 5)) \n",
    "    impressions = int( random.gauss( 0.5 * 10** 6, 2)) \n",
    "    return { \n",
    "        'cmp_name': name, \n",
    "        'cmp_bgt': budget, \n",
    "        'cmp_spent': spent, \n",
    "        'cmp_clicks': clicks, \n",
    "        'cmp_impr': impressions }\n"
   ]
  },
  {
   "cell_type": "code",
   "execution_count": 53,
   "metadata": {
    "collapsed": false,
    "deletable": true,
    "editable": true
   },
   "outputs": [],
   "source": [
    "#7\n",
    "\n",
    "def get_data( users): \n",
    "    data = [] \n",
    "    for user in users: \n",
    "        campaigns = [get_campaign_data() for _ in range( random.randint( 2, 8))] \n",
    "        data.append({'user': user, 'campaigns': campaigns}) \n",
    "    return data\n",
    "\n"
   ]
  },
  {
   "cell_type": "code",
   "execution_count": 54,
   "metadata": {
    "collapsed": false,
    "deletable": true,
    "editable": true
   },
   "outputs": [
    {
     "data": {
      "text/plain": [
       "[{'campaigns': [{'cmp_bgt': 127831,\n",
       "    'cmp_clicks': 34102,\n",
       "    'cmp_impr': 500001,\n",
       "    'cmp_name': 'BYU_20160626_20170228_25-30_M_USD',\n",
       "    'cmp_spent': 88196},\n",
       "   {'cmp_bgt': 929226,\n",
       "    'cmp_clicks': 27671,\n",
       "    'cmp_impr': 500000,\n",
       "    'cmp_name': 'AKX_20161130_20180115_30-50_M_USD',\n",
       "    'cmp_spent': 140098},\n",
       "   {'cmp_bgt': 399566,\n",
       "    'cmp_clicks': 45415,\n",
       "    'cmp_impr': 499999,\n",
       "    'cmp_name': 'AKX_20160702_20180116_45-50_B_GPB',\n",
       "    'cmp_spent': 36722},\n",
       "   {'cmp_bgt': 856049,\n",
       "    'cmp_clicks': 27155,\n",
       "    'cmp_impr': 500001,\n",
       "    'cmp_name': 'BYU_20161218_20180730_30-55_B_USD',\n",
       "    'cmp_spent': 35174}],\n",
       "  'user': '{\"username\": \"omccall\", \"name\": \"Janet Hunt\", \"gender\": \"F\", \"email\": \"dcarroll@yahoo.com\", \"age\": 23, \"address\": \"53005 Joseph Underpass Suite 630\\\\nLake Crystal, IN 52553-9396\"}'},\n",
       " {'campaigns': [{'cmp_bgt': 583403,\n",
       "    'cmp_clicks': 31944,\n",
       "    'cmp_impr': 499998,\n",
       "    'cmp_name': 'AKX_20160918_20180714_20-45_M_GPB',\n",
       "    'cmp_spent': 195267},\n",
       "   {'cmp_bgt': 393147,\n",
       "    'cmp_clicks': 29162,\n",
       "    'cmp_impr': 500002,\n",
       "    'cmp_name': 'BYU_20180205_20190302_20-35_B_GPB',\n",
       "    'cmp_spent': 141533}],\n",
       "  'user': '{\"username\": \"andreabaxter\", \"name\": \"Jamie Campbell\", \"gender\": \"F\", \"email\": \"juliehouse@small.com\", \"age\": 24, \"address\": \"7925 Morris Wall Suite 659\\\\nDiazville, AL 80776-5499\"}'}]"
      ]
     },
     "execution_count": 54,
     "metadata": {},
     "output_type": "execute_result"
    }
   ],
   "source": [
    "#8 \n",
    "rough_data = get_data(users)\n",
    "rough_data[:2]  # let's get a peek"
   ]
  },
  {
   "cell_type": "code",
   "execution_count": 55,
   "metadata": {
    "collapsed": false,
    "deletable": true,
    "editable": true
   },
   "outputs": [],
   "source": [
    "#9 \n",
    "''''''\n",
    "data = []\n",
    "for datum in rough_data :\n",
    "    for campaign in datum['campaigns']:\n",
    "        campaign.update({'user' : datum['user']})\n",
    "        data.append(campaign)\n",
    "    data[:2] # let's take another peek\n",
    "''''''\n",
    "data = [] \n",
    "for datum in rough_data: \n",
    "    for campaign in datum['campaigns']: \n",
    "        campaign.update({'user': datum['user']}) \n",
    "        data.append(campaign)\n",
    "    #print(*data, sep='\\n')\n",
    "    #data[:] # let's take another peek\n"
   ]
  },
  {
   "cell_type": "code",
   "execution_count": 56,
   "metadata": {
    "collapsed": false,
    "deletable": true,
    "editable": true
   },
   "outputs": [
    {
     "data": {
      "text/html": [
       "<div>\n",
       "<table border=\"1\" class=\"dataframe\">\n",
       "  <thead>\n",
       "    <tr style=\"text-align: right;\">\n",
       "      <th></th>\n",
       "      <th>cmp_bgt</th>\n",
       "      <th>cmp_clicks</th>\n",
       "      <th>cmp_impr</th>\n",
       "      <th>cmp_name</th>\n",
       "      <th>cmp_spent</th>\n",
       "      <th>user</th>\n",
       "    </tr>\n",
       "  </thead>\n",
       "  <tbody>\n",
       "    <tr>\n",
       "      <th>0</th>\n",
       "      <td>127831</td>\n",
       "      <td>34102</td>\n",
       "      <td>500001</td>\n",
       "      <td>BYU_20160626_20170228_25-30_M_USD</td>\n",
       "      <td>88196</td>\n",
       "      <td>{\"username\": \"omccall\", \"name\": \"Janet Hunt\", ...</td>\n",
       "    </tr>\n",
       "    <tr>\n",
       "      <th>1</th>\n",
       "      <td>929226</td>\n",
       "      <td>27671</td>\n",
       "      <td>500000</td>\n",
       "      <td>AKX_20161130_20180115_30-50_M_USD</td>\n",
       "      <td>140098</td>\n",
       "      <td>{\"username\": \"omccall\", \"name\": \"Janet Hunt\", ...</td>\n",
       "    </tr>\n",
       "    <tr>\n",
       "      <th>2</th>\n",
       "      <td>399566</td>\n",
       "      <td>45415</td>\n",
       "      <td>499999</td>\n",
       "      <td>AKX_20160702_20180116_45-50_B_GPB</td>\n",
       "      <td>36722</td>\n",
       "      <td>{\"username\": \"omccall\", \"name\": \"Janet Hunt\", ...</td>\n",
       "    </tr>\n",
       "    <tr>\n",
       "      <th>3</th>\n",
       "      <td>856049</td>\n",
       "      <td>27155</td>\n",
       "      <td>500001</td>\n",
       "      <td>BYU_20161218_20180730_30-55_B_USD</td>\n",
       "      <td>35174</td>\n",
       "      <td>{\"username\": \"omccall\", \"name\": \"Janet Hunt\", ...</td>\n",
       "    </tr>\n",
       "    <tr>\n",
       "      <th>4</th>\n",
       "      <td>583403</td>\n",
       "      <td>31944</td>\n",
       "      <td>499998</td>\n",
       "      <td>AKX_20160918_20180714_20-45_M_GPB</td>\n",
       "      <td>195267</td>\n",
       "      <td>{\"username\": \"andreabaxter\", \"name\": \"Jamie Ca...</td>\n",
       "    </tr>\n",
       "  </tbody>\n",
       "</table>\n",
       "</div>"
      ],
      "text/plain": [
       "   cmp_bgt  cmp_clicks  cmp_impr                           cmp_name  \\\n",
       "0   127831       34102    500001  BYU_20160626_20170228_25-30_M_USD   \n",
       "1   929226       27671    500000  AKX_20161130_20180115_30-50_M_USD   \n",
       "2   399566       45415    499999  AKX_20160702_20180116_45-50_B_GPB   \n",
       "3   856049       27155    500001  BYU_20161218_20180730_30-55_B_USD   \n",
       "4   583403       31944    499998  AKX_20160918_20180714_20-45_M_GPB   \n",
       "\n",
       "   cmp_spent                                               user  \n",
       "0      88196  {\"username\": \"omccall\", \"name\": \"Janet Hunt\", ...  \n",
       "1     140098  {\"username\": \"omccall\", \"name\": \"Janet Hunt\", ...  \n",
       "2      36722  {\"username\": \"omccall\", \"name\": \"Janet Hunt\", ...  \n",
       "3      35174  {\"username\": \"omccall\", \"name\": \"Janet Hunt\", ...  \n",
       "4     195267  {\"username\": \"andreabaxter\", \"name\": \"Jamie Ca...  "
      ]
     },
     "execution_count": 56,
     "metadata": {},
     "output_type": "execute_result"
    }
   ],
   "source": [
    "#10 \n",
    "\n",
    "df = DataFrame(data) \n",
    "df.head()\n"
   ]
  },
  {
   "cell_type": "code",
   "execution_count": 57,
   "metadata": {
    "collapsed": false,
    "deletable": true,
    "editable": true
   },
   "outputs": [
    {
     "data": {
      "text/plain": [
       "cmp_bgt       5105\n",
       "cmp_clicks    5105\n",
       "cmp_impr      5105\n",
       "cmp_name      5105\n",
       "cmp_spent     5105\n",
       "user          5105\n",
       "dtype: int64"
      ]
     },
     "execution_count": 57,
     "metadata": {},
     "output_type": "execute_result"
    }
   ],
   "source": [
    "#11 \n",
    "\n",
    "df.count()\n"
   ]
  },
  {
   "cell_type": "code",
   "execution_count": 58,
   "metadata": {
    "collapsed": false,
    "deletable": true,
    "editable": true
   },
   "outputs": [
    {
     "data": {
      "text/html": [
       "<div>\n",
       "<table border=\"1\" class=\"dataframe\">\n",
       "  <thead>\n",
       "    <tr style=\"text-align: right;\">\n",
       "      <th></th>\n",
       "      <th>cmp_bgt</th>\n",
       "      <th>cmp_clicks</th>\n",
       "      <th>cmp_impr</th>\n",
       "      <th>cmp_spent</th>\n",
       "    </tr>\n",
       "  </thead>\n",
       "  <tbody>\n",
       "    <tr>\n",
       "      <th>count</th>\n",
       "      <td>5105.000000</td>\n",
       "      <td>5105.000000</td>\n",
       "      <td>5105.000000</td>\n",
       "      <td>5105.000000</td>\n",
       "    </tr>\n",
       "    <tr>\n",
       "      <th>mean</th>\n",
       "      <td>492929.105583</td>\n",
       "      <td>40267.602155</td>\n",
       "      <td>499999.519882</td>\n",
       "      <td>245519.495397</td>\n",
       "    </tr>\n",
       "    <tr>\n",
       "      <th>std</th>\n",
       "      <td>287696.965507</td>\n",
       "      <td>21765.760903</td>\n",
       "      <td>1.991175</td>\n",
       "      <td>217348.399969</td>\n",
       "    </tr>\n",
       "    <tr>\n",
       "      <th>min</th>\n",
       "      <td>1147.000000</td>\n",
       "      <td>240.000000</td>\n",
       "      <td>499992.000000</td>\n",
       "      <td>132.000000</td>\n",
       "    </tr>\n",
       "    <tr>\n",
       "      <th>25%</th>\n",
       "      <td>239645.000000</td>\n",
       "      <td>22716.000000</td>\n",
       "      <td>499998.000000</td>\n",
       "      <td>64138.000000</td>\n",
       "    </tr>\n",
       "    <tr>\n",
       "      <th>50%</th>\n",
       "      <td>493045.000000</td>\n",
       "      <td>37514.000000</td>\n",
       "      <td>500000.000000</td>\n",
       "      <td>182993.000000</td>\n",
       "    </tr>\n",
       "    <tr>\n",
       "      <th>75%</th>\n",
       "      <td>739233.000000</td>\n",
       "      <td>55510.000000</td>\n",
       "      <td>500001.000000</td>\n",
       "      <td>377045.000000</td>\n",
       "    </tr>\n",
       "    <tr>\n",
       "      <th>max</th>\n",
       "      <td>999827.000000</td>\n",
       "      <td>98373.000000</td>\n",
       "      <td>500007.000000</td>\n",
       "      <td>991851.000000</td>\n",
       "    </tr>\n",
       "  </tbody>\n",
       "</table>\n",
       "</div>"
      ],
      "text/plain": [
       "             cmp_bgt    cmp_clicks       cmp_impr      cmp_spent\n",
       "count    5105.000000   5105.000000    5105.000000    5105.000000\n",
       "mean   492929.105583  40267.602155  499999.519882  245519.495397\n",
       "std    287696.965507  21765.760903       1.991175  217348.399969\n",
       "min      1147.000000    240.000000  499992.000000     132.000000\n",
       "25%    239645.000000  22716.000000  499998.000000   64138.000000\n",
       "50%    493045.000000  37514.000000  500000.000000  182993.000000\n",
       "75%    739233.000000  55510.000000  500001.000000  377045.000000\n",
       "max    999827.000000  98373.000000  500007.000000  991851.000000"
      ]
     },
     "execution_count": 58,
     "metadata": {},
     "output_type": "execute_result"
    }
   ],
   "source": [
    "#12 \n",
    "\n",
    "df.describe()\n"
   ]
  },
  {
   "cell_type": "code",
   "execution_count": 59,
   "metadata": {
    "collapsed": false,
    "deletable": true,
    "editable": true
   },
   "outputs": [
    {
     "name": "stderr",
     "output_type": "stream",
     "text": [
      "/Users/JORGEURIBESOLORZANO/virtualenvs/envjupyter/lib/python3.6/site-packages/ipykernel/__main__.py:3: FutureWarning: by argument to sort_index is deprecated, pls use .sort_values(by=...)\n",
      "  app.launch_new_instance()\n"
     ]
    },
    {
     "data": {
      "text/html": [
       "<div>\n",
       "<table border=\"1\" class=\"dataframe\">\n",
       "  <thead>\n",
       "    <tr style=\"text-align: right;\">\n",
       "      <th></th>\n",
       "      <th>cmp_bgt</th>\n",
       "      <th>cmp_clicks</th>\n",
       "      <th>cmp_impr</th>\n",
       "      <th>cmp_name</th>\n",
       "      <th>cmp_spent</th>\n",
       "      <th>user</th>\n",
       "    </tr>\n",
       "  </thead>\n",
       "  <tbody>\n",
       "    <tr>\n",
       "      <th>2839</th>\n",
       "      <td>999827</td>\n",
       "      <td>73516</td>\n",
       "      <td>500000</td>\n",
       "      <td>AKX_20170221_20180628_25-45_F_GPB</td>\n",
       "      <td>635890</td>\n",
       "      <td>{\"username\": \"todd33\", \"name\": \"Samantha Jones...</td>\n",
       "    </tr>\n",
       "    <tr>\n",
       "      <th>1185</th>\n",
       "      <td>999812</td>\n",
       "      <td>35520</td>\n",
       "      <td>500000</td>\n",
       "      <td>KTR_20160520_20170929_20-40_F_EUR</td>\n",
       "      <td>693232</td>\n",
       "      <td>{\"username\": \"johnbryant\", \"name\": \"Kenneth Ro...</td>\n",
       "    </tr>\n",
       "    <tr>\n",
       "      <th>2047</th>\n",
       "      <td>999666</td>\n",
       "      <td>34451</td>\n",
       "      <td>499998</td>\n",
       "      <td>KTR_20160817_20171015_35-60_F_USD</td>\n",
       "      <td>210388</td>\n",
       "      <td>{\"username\": \"donaldhill\", \"name\": \"Lisa Durha...</td>\n",
       "    </tr>\n",
       "  </tbody>\n",
       "</table>\n",
       "</div>"
      ],
      "text/plain": [
       "      cmp_bgt  cmp_clicks  cmp_impr                           cmp_name  \\\n",
       "2839   999827       73516    500000  AKX_20170221_20180628_25-45_F_GPB   \n",
       "1185   999812       35520    500000  KTR_20160520_20170929_20-40_F_EUR   \n",
       "2047   999666       34451    499998  KTR_20160817_20171015_35-60_F_USD   \n",
       "\n",
       "      cmp_spent                                               user  \n",
       "2839     635890  {\"username\": \"todd33\", \"name\": \"Samantha Jones...  \n",
       "1185     693232  {\"username\": \"johnbryant\", \"name\": \"Kenneth Ro...  \n",
       "2047     210388  {\"username\": \"donaldhill\", \"name\": \"Lisa Durha...  "
      ]
     },
     "execution_count": 59,
     "metadata": {},
     "output_type": "execute_result"
    }
   ],
   "source": [
    "#13 \n",
    "\n",
    "df.sort_index( by =['cmp_bgt'],ascending = False).head( 3)\n",
    "\n"
   ]
  },
  {
   "cell_type": "code",
   "execution_count": 60,
   "metadata": {
    "collapsed": false,
    "deletable": true,
    "editable": true
   },
   "outputs": [
    {
     "name": "stderr",
     "output_type": "stream",
     "text": [
      "/Users/JORGEURIBESOLORZANO/virtualenvs/envjupyter/lib/python3.6/site-packages/ipykernel/__main__.py:3: FutureWarning: by argument to sort_index is deprecated, pls use .sort_values(by=...)\n",
      "  app.launch_new_instance()\n"
     ]
    },
    {
     "data": {
      "text/html": [
       "<div>\n",
       "<table border=\"1\" class=\"dataframe\">\n",
       "  <thead>\n",
       "    <tr style=\"text-align: right;\">\n",
       "      <th></th>\n",
       "      <th>cmp_bgt</th>\n",
       "      <th>cmp_clicks</th>\n",
       "      <th>cmp_impr</th>\n",
       "      <th>cmp_name</th>\n",
       "      <th>cmp_spent</th>\n",
       "      <th>user</th>\n",
       "    </tr>\n",
       "  </thead>\n",
       "  <tbody>\n",
       "    <tr>\n",
       "      <th>1425</th>\n",
       "      <td>1676</td>\n",
       "      <td>34006</td>\n",
       "      <td>500001</td>\n",
       "      <td>GRZ_20160630_20170408_20-35_B_GPB</td>\n",
       "      <td>1033</td>\n",
       "      <td>{\"username\": \"salazarjohn\", \"name\": \"Benjamin ...</td>\n",
       "    </tr>\n",
       "    <tr>\n",
       "      <th>2201</th>\n",
       "      <td>1307</td>\n",
       "      <td>35684</td>\n",
       "      <td>499998</td>\n",
       "      <td>GRZ_20171018_20171027_35-55_B_GPB</td>\n",
       "      <td>665</td>\n",
       "      <td>{\"username\": \"kelly75\", \"name\": \"Alexis Moyer\"...</td>\n",
       "    </tr>\n",
       "    <tr>\n",
       "      <th>1709</th>\n",
       "      <td>1147</td>\n",
       "      <td>61902</td>\n",
       "      <td>499996</td>\n",
       "      <td>AKX_20160628_20180202_20-45_B_USD</td>\n",
       "      <td>199</td>\n",
       "      <td>{\"username\": \"markjackson\", \"name\": \"Alicia Gl...</td>\n",
       "    </tr>\n",
       "  </tbody>\n",
       "</table>\n",
       "</div>"
      ],
      "text/plain": [
       "      cmp_bgt  cmp_clicks  cmp_impr                           cmp_name  \\\n",
       "1425     1676       34006    500001  GRZ_20160630_20170408_20-35_B_GPB   \n",
       "2201     1307       35684    499998  GRZ_20171018_20171027_35-55_B_GPB   \n",
       "1709     1147       61902    499996  AKX_20160628_20180202_20-45_B_USD   \n",
       "\n",
       "      cmp_spent                                               user  \n",
       "1425       1033  {\"username\": \"salazarjohn\", \"name\": \"Benjamin ...  \n",
       "2201        665  {\"username\": \"kelly75\", \"name\": \"Alexis Moyer\"...  \n",
       "1709        199  {\"username\": \"markjackson\", \"name\": \"Alicia Gl...  "
      ]
     },
     "execution_count": 60,
     "metadata": {},
     "output_type": "execute_result"
    }
   ],
   "source": [
    "#14\n",
    "\n",
    "df.sort_index( by =['cmp_bgt'],ascending = False).tail(3)\n"
   ]
  },
  {
   "cell_type": "code",
   "execution_count": 65,
   "metadata": {
    "collapsed": false,
    "deletable": true,
    "editable": true
   },
   "outputs": [
    {
     "data": {
      "text/html": [
       "<div>\n",
       "<table border=\"1\" class=\"dataframe\">\n",
       "  <thead>\n",
       "    <tr style=\"text-align: right;\">\n",
       "      <th></th>\n",
       "      <th>Type</th>\n",
       "      <th>Start</th>\n",
       "      <th>End</th>\n",
       "      <th>Age</th>\n",
       "      <th>Gender</th>\n",
       "      <th>Currency</th>\n",
       "    </tr>\n",
       "  </thead>\n",
       "  <tbody>\n",
       "    <tr>\n",
       "      <th>0</th>\n",
       "      <td>BYU</td>\n",
       "      <td>2016-06-26</td>\n",
       "      <td>2017-02-28</td>\n",
       "      <td>25-30</td>\n",
       "      <td>M</td>\n",
       "      <td>USD</td>\n",
       "    </tr>\n",
       "    <tr>\n",
       "      <th>1</th>\n",
       "      <td>AKX</td>\n",
       "      <td>2016-11-30</td>\n",
       "      <td>2018-01-15</td>\n",
       "      <td>30-50</td>\n",
       "      <td>M</td>\n",
       "      <td>USD</td>\n",
       "    </tr>\n",
       "    <tr>\n",
       "      <th>2</th>\n",
       "      <td>AKX</td>\n",
       "      <td>2016-02-07</td>\n",
       "      <td>2018-01-16</td>\n",
       "      <td>45-50</td>\n",
       "      <td>B</td>\n",
       "      <td>GPB</td>\n",
       "    </tr>\n",
       "  </tbody>\n",
       "</table>\n",
       "</div>"
      ],
      "text/plain": [
       "  Type       Start         End    Age Gender Currency\n",
       "0  BYU  2016-06-26  2017-02-28  25-30      M      USD\n",
       "1  AKX  2016-11-30  2018-01-15  30-50      M      USD\n",
       "2  AKX  2016-02-07  2018-01-16  45-50      B      GPB"
      ]
     },
     "execution_count": 65,
     "metadata": {},
     "output_type": "execute_result"
    }
   ],
   "source": [
    "#15 \n",
    "\n",
    "def unpack_campaign_name(name): \n",
    "    # very optimistic method, assumes data in campaign name \n",
    "    # is always in good state \n",
    "    dayfirts=False\n",
    "    yearfirst=True\n",
    "    type_, start, end, age, gender, currency = name.split('_') \n",
    "    start = parse(start).date \n",
    "    end = parse(end).date \n",
    "    return type_, start, end, age, gender, currency \n",
    "\n",
    "campaign_data = df['cmp_name'].apply(unpack_campaign_name) \n",
    "campaign_cols = [ 'Type', 'Start', 'End', 'Age', 'Gender', 'Currency'] \n",
    "campaign_df = DataFrame(campaign_data.tolist(), columns = campaign_cols, index = df.index) \n",
    "campaign_df.head( 3)\n"
   ]
  },
  {
   "cell_type": "code",
   "execution_count": 66,
   "metadata": {
    "collapsed": true
   },
   "outputs": [],
   "source": [
    "#16\n",
    "\n",
    "df = df.join(campaign_df)\n"
   ]
  },
  {
   "cell_type": "code",
   "execution_count": 67,
   "metadata": {
    "collapsed": false
   },
   "outputs": [
    {
     "data": {
      "text/html": [
       "<div>\n",
       "<table border=\"1\" class=\"dataframe\">\n",
       "  <thead>\n",
       "    <tr style=\"text-align: right;\">\n",
       "      <th></th>\n",
       "      <th>cmp_name</th>\n",
       "      <th>Type</th>\n",
       "      <th>Start</th>\n",
       "      <th>End</th>\n",
       "      <th>Age</th>\n",
       "      <th>Gender</th>\n",
       "      <th>Currency</th>\n",
       "    </tr>\n",
       "  </thead>\n",
       "  <tbody>\n",
       "    <tr>\n",
       "      <th>0</th>\n",
       "      <td>BYU_20160626_20170228_25-30_M_USD</td>\n",
       "      <td>BYU</td>\n",
       "      <td>2016-06-26</td>\n",
       "      <td>2017-02-28</td>\n",
       "      <td>25-30</td>\n",
       "      <td>M</td>\n",
       "      <td>USD</td>\n",
       "    </tr>\n",
       "    <tr>\n",
       "      <th>1</th>\n",
       "      <td>AKX_20161130_20180115_30-50_M_USD</td>\n",
       "      <td>AKX</td>\n",
       "      <td>2016-11-30</td>\n",
       "      <td>2018-01-15</td>\n",
       "      <td>30-50</td>\n",
       "      <td>M</td>\n",
       "      <td>USD</td>\n",
       "    </tr>\n",
       "    <tr>\n",
       "      <th>2</th>\n",
       "      <td>AKX_20160702_20180116_45-50_B_GPB</td>\n",
       "      <td>AKX</td>\n",
       "      <td>2016-02-07</td>\n",
       "      <td>2018-01-16</td>\n",
       "      <td>45-50</td>\n",
       "      <td>B</td>\n",
       "      <td>GPB</td>\n",
       "    </tr>\n",
       "  </tbody>\n",
       "</table>\n",
       "</div>"
      ],
      "text/plain": [
       "                            cmp_name Type       Start         End    Age  \\\n",
       "0  BYU_20160626_20170228_25-30_M_USD  BYU  2016-06-26  2017-02-28  25-30   \n",
       "1  AKX_20161130_20180115_30-50_M_USD  AKX  2016-11-30  2018-01-15  30-50   \n",
       "2  AKX_20160702_20180116_45-50_B_GPB  AKX  2016-02-07  2018-01-16  45-50   \n",
       "\n",
       "  Gender Currency  \n",
       "0      M      USD  \n",
       "1      M      USD  \n",
       "2      B      GPB  "
      ]
     },
     "execution_count": 67,
     "metadata": {},
     "output_type": "execute_result"
    }
   ],
   "source": [
    "#17\n",
    "\n",
    "df[['cmp_name'] + campaign_cols].head(3)\n"
   ]
  },
  {
   "cell_type": "code",
   "execution_count": 68,
   "metadata": {
    "collapsed": false
   },
   "outputs": [],
   "source": [
    "#18 \n",
    "def unpack_user_json(user): \n",
    "    # very optimistic as well, expects user objects \n",
    "    # to have all attributes \n",
    "    user = json.loads( user.strip()) \n",
    "    return [ \n",
    "        user['username'], \n",
    "        user['email'], \n",
    "        user['name'], \n",
    "        user['gender'],\n",
    "        user['age'], \n",
    "        user['address'], \n",
    "    ] \n",
    "\n",
    "user_data = df['user'].apply(unpack_user_json) \n",
    "user_cols = [ 'username', 'email', 'name', 'gender', 'age', 'address'] \n",
    "user_df = DataFrame( user_data.tolist(), columns = user_cols, index = df.index)\n",
    "\n"
   ]
  },
  {
   "cell_type": "code",
   "execution_count": 69,
   "metadata": {
    "collapsed": true
   },
   "outputs": [],
   "source": [
    "#19 \n",
    "df = df.join(user_df) \n",
    "\n"
   ]
  },
  {
   "cell_type": "code",
   "execution_count": 70,
   "metadata": {
    "collapsed": false
   },
   "outputs": [
    {
     "data": {
      "text/html": [
       "<div>\n",
       "<table border=\"1\" class=\"dataframe\">\n",
       "  <thead>\n",
       "    <tr style=\"text-align: right;\">\n",
       "      <th></th>\n",
       "      <th>user</th>\n",
       "      <th>username</th>\n",
       "      <th>email</th>\n",
       "      <th>name</th>\n",
       "      <th>gender</th>\n",
       "      <th>age</th>\n",
       "      <th>address</th>\n",
       "    </tr>\n",
       "  </thead>\n",
       "  <tbody>\n",
       "    <tr>\n",
       "      <th>0</th>\n",
       "      <td>{\"username\": \"omccall\", \"name\": \"Janet Hunt\", ...</td>\n",
       "      <td>omccall</td>\n",
       "      <td>dcarroll@yahoo.com</td>\n",
       "      <td>Janet Hunt</td>\n",
       "      <td>F</td>\n",
       "      <td>23</td>\n",
       "      <td>53005 Joseph Underpass Suite 630\\nLake Crystal...</td>\n",
       "    </tr>\n",
       "    <tr>\n",
       "      <th>1</th>\n",
       "      <td>{\"username\": \"omccall\", \"name\": \"Janet Hunt\", ...</td>\n",
       "      <td>omccall</td>\n",
       "      <td>dcarroll@yahoo.com</td>\n",
       "      <td>Janet Hunt</td>\n",
       "      <td>F</td>\n",
       "      <td>23</td>\n",
       "      <td>53005 Joseph Underpass Suite 630\\nLake Crystal...</td>\n",
       "    </tr>\n",
       "  </tbody>\n",
       "</table>\n",
       "</div>"
      ],
      "text/plain": [
       "                                                user username  \\\n",
       "0  {\"username\": \"omccall\", \"name\": \"Janet Hunt\", ...  omccall   \n",
       "1  {\"username\": \"omccall\", \"name\": \"Janet Hunt\", ...  omccall   \n",
       "\n",
       "                email        name gender  age  \\\n",
       "0  dcarroll@yahoo.com  Janet Hunt      F   23   \n",
       "1  dcarroll@yahoo.com  Janet Hunt      F   23   \n",
       "\n",
       "                                             address  \n",
       "0  53005 Joseph Underpass Suite 630\\nLake Crystal...  \n",
       "1  53005 Joseph Underpass Suite 630\\nLake Crystal...  "
      ]
     },
     "execution_count": 70,
     "metadata": {},
     "output_type": "execute_result"
    }
   ],
   "source": [
    "#20 \n",
    "\n",
    "df[['user'] + user_cols].head( 2)\n"
   ]
  },
  {
   "cell_type": "code",
   "execution_count": 71,
   "metadata": {
    "collapsed": false
   },
   "outputs": [],
   "source": [
    "#21 \n",
    "\n",
    "better_columns = [ \n",
    "    'Budget', 'Clicks', 'Impressions', \n",
    "    'cmp_name', 'Spent', 'user', 'Type', \n",
    "    'Start', 'End', 'Target Age', 'Target Gender', \n",
    "    'Currency', 'Username', 'Email', \n",
    "    'Name', 'Gender', 'Age', 'Address', \n",
    "]\n",
    "\n",
    "df.columns = better_columns\n",
    "\n"
   ]
  },
  {
   "cell_type": "code",
   "execution_count": 72,
   "metadata": {
    "collapsed": false
   },
   "outputs": [],
   "source": [
    "#22\n",
    "def calculate_extra_columns(df): \n",
    "    # Click Through Rate \n",
    "    df['CTR'] = df['Clicks'] / df['Impressions'] \n",
    "    \n",
    "    # Cost Per Click \n",
    "    df['CPC'] = df['Spent'] / df['Clicks'] \n",
    "    \n",
    "    # Cost Per Impression \n",
    "    df['CPI'] = df['Spent'] / df['Impressions'] \n",
    "    \n",
    "calculate_extra_columns(df)\n"
   ]
  },
  {
   "cell_type": "code",
   "execution_count": 73,
   "metadata": {
    "collapsed": false
   },
   "outputs": [
    {
     "data": {
      "text/html": [
       "<div>\n",
       "<table border=\"1\" class=\"dataframe\">\n",
       "  <thead>\n",
       "    <tr style=\"text-align: right;\">\n",
       "      <th></th>\n",
       "      <th>Spent</th>\n",
       "      <th>Clicks</th>\n",
       "      <th>Impressions</th>\n",
       "      <th>CTR</th>\n",
       "      <th>CPC</th>\n",
       "      <th>CPI</th>\n",
       "    </tr>\n",
       "  </thead>\n",
       "  <tbody>\n",
       "    <tr>\n",
       "      <th>0</th>\n",
       "      <td>88196</td>\n",
       "      <td>34102</td>\n",
       "      <td>500001</td>\n",
       "      <td>0.068204</td>\n",
       "      <td>2.586241</td>\n",
       "      <td>0.176392</td>\n",
       "    </tr>\n",
       "    <tr>\n",
       "      <th>1</th>\n",
       "      <td>140098</td>\n",
       "      <td>27671</td>\n",
       "      <td>500000</td>\n",
       "      <td>0.055342</td>\n",
       "      <td>5.062990</td>\n",
       "      <td>0.280196</td>\n",
       "    </tr>\n",
       "    <tr>\n",
       "      <th>2</th>\n",
       "      <td>36722</td>\n",
       "      <td>45415</td>\n",
       "      <td>499999</td>\n",
       "      <td>0.090830</td>\n",
       "      <td>0.808587</td>\n",
       "      <td>0.073444</td>\n",
       "    </tr>\n",
       "  </tbody>\n",
       "</table>\n",
       "</div>"
      ],
      "text/plain": [
       "    Spent  Clicks  Impressions       CTR       CPC       CPI\n",
       "0   88196   34102       500001  0.068204  2.586241  0.176392\n",
       "1  140098   27671       500000  0.055342  5.062990  0.280196\n",
       "2   36722   45415       499999  0.090830  0.808587  0.073444"
      ]
     },
     "execution_count": 73,
     "metadata": {},
     "output_type": "execute_result"
    }
   ],
   "source": [
    "#23 \n",
    "\n",
    "df[['Spent', 'Clicks', 'Impressions', 'CTR', 'CPC', 'CPI']].head(3)\n",
    "\n"
   ]
  },
  {
   "cell_type": "code",
   "execution_count": 74,
   "metadata": {
    "collapsed": false
   },
   "outputs": [
    {
     "name": "stdout",
     "output_type": "stream",
     "text": [
      "CTR: 0.0682038635923 0.0682038635923\n",
      "CPC: 2.58624127617 2.58624127617\n",
      "CPI: 0.176391647217 0.176391647217\n"
     ]
    }
   ],
   "source": [
    "#24\n",
    "\n",
    "clicks = df['Clicks'][0] \n",
    "impressions = df['Impressions'][0]\n",
    "spent = df['Spent'][0] \n",
    "CTR = df['CTR'][0] \n",
    "CPC = df['CPC'][0] \n",
    "CPI = df['CPI'][0] \n",
    "\n",
    "print('CTR:', CTR, clicks / impressions) \n",
    "print('CPC:', CPC, spent / clicks) \n",
    "print('CPI:', CPI, spent / impressions)\n"
   ]
  },
  {
   "cell_type": "code",
   "execution_count": 75,
   "metadata": {
    "collapsed": true
   },
   "outputs": [],
   "source": [
    "#25 \n",
    "\n",
    "def get_day_of_the_week(day): \n",
    "    number_to_day = dict(enumerate(calendar.day_name, 1)) \n",
    "    return number_to_day[day.isoweekday()] \n",
    "\n",
    "def get_duration(row): \n",
    "    return (row['End'] - row['Start']).days\n",
    "\n",
    "df['Day of Week'] = df['Start'].apply(get_day_of_the_week) \n",
    "df['Duration'] = df.apply(get_duration, axis = 1)\n",
    "\n"
   ]
  },
  {
   "cell_type": "code",
   "execution_count": 76,
   "metadata": {
    "collapsed": false
   },
   "outputs": [
    {
     "data": {
      "text/html": [
       "<div>\n",
       "<table border=\"1\" class=\"dataframe\">\n",
       "  <thead>\n",
       "    <tr style=\"text-align: right;\">\n",
       "      <th></th>\n",
       "      <th>Start</th>\n",
       "      <th>End</th>\n",
       "      <th>Duration</th>\n",
       "      <th>Day of Week</th>\n",
       "    </tr>\n",
       "  </thead>\n",
       "  <tbody>\n",
       "    <tr>\n",
       "      <th>0</th>\n",
       "      <td>2016-06-26</td>\n",
       "      <td>2017-02-28</td>\n",
       "      <td>247</td>\n",
       "      <td>Sunday</td>\n",
       "    </tr>\n",
       "    <tr>\n",
       "      <th>1</th>\n",
       "      <td>2016-11-30</td>\n",
       "      <td>2018-01-15</td>\n",
       "      <td>411</td>\n",
       "      <td>Wednesday</td>\n",
       "    </tr>\n",
       "    <tr>\n",
       "      <th>2</th>\n",
       "      <td>2016-02-07</td>\n",
       "      <td>2018-01-16</td>\n",
       "      <td>709</td>\n",
       "      <td>Sunday</td>\n",
       "    </tr>\n",
       "  </tbody>\n",
       "</table>\n",
       "</div>"
      ],
      "text/plain": [
       "        Start         End  Duration Day of Week\n",
       "0  2016-06-26  2017-02-28       247      Sunday\n",
       "1  2016-11-30  2018-01-15       411   Wednesday\n",
       "2  2016-02-07  2018-01-16       709      Sunday"
      ]
     },
     "execution_count": 76,
     "metadata": {},
     "output_type": "execute_result"
    }
   ],
   "source": [
    "#26 \n",
    "\n",
    "df[['Start', 'End', 'Duration', 'Day of Week']].head(3)\n"
   ]
  },
  {
   "cell_type": "code",
   "execution_count": 77,
   "metadata": {
    "collapsed": true
   },
   "outputs": [],
   "source": [
    "#27 \n",
    "final_columns = ['Type', 'Start', 'End', 'Duration', \n",
    "                 'Day of Week', 'Budget', 'Currency', \n",
    "                 'Clicks', 'Impressions', 'Spent', \n",
    "                 'CTR', 'CPC', 'CPI', \n",
    "                 'Target Age', 'Target Gender', \n",
    "                 'Username', 'Email', 'Name', \n",
    "                 'Gender', 'Age' \n",
    "                ] \n",
    "\n",
    "df = df[ final_columns]\n"
   ]
  },
  {
   "cell_type": "code",
   "execution_count": 78,
   "metadata": {
    "collapsed": true
   },
   "outputs": [],
   "source": [
    "#28 \n",
    "df.to_csv('df.csv') \n",
    "\n"
   ]
  },
  {
   "cell_type": "code",
   "execution_count": 79,
   "metadata": {
    "collapsed": true
   },
   "outputs": [],
   "source": [
    "#29 \n",
    "df.to_json('df.json') \n",
    "\n"
   ]
  },
  {
   "cell_type": "code",
   "execution_count": 80,
   "metadata": {
    "collapsed": true
   },
   "outputs": [],
   "source": [
    "#30 \n",
    "df.to_excel('df.xls')"
   ]
  },
  {
   "cell_type": "code",
   "execution_count": null,
   "metadata": {
    "collapsed": true
   },
   "outputs": [],
   "source": []
  }
 ],
 "metadata": {
  "kernelspec": {
   "display_name": "Python 3",
   "language": "python",
   "name": "python3"
  },
  "language_info": {
   "codemirror_mode": {
    "name": "ipython",
    "version": 3
   },
   "file_extension": ".py",
   "mimetype": "text/x-python",
   "name": "python",
   "nbconvert_exporter": "python",
   "pygments_lexer": "ipython3",
   "version": "3.6.0"
  }
 },
 "nbformat": 4,
 "nbformat_minor": 2
}
